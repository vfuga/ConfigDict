{
 "cells": [
  {
   "cell_type": "code",
   "execution_count": 1,
   "metadata": {},
   "outputs": [
    {
     "data": {
      "application/javascript": [
       "$.getScript('https://kmahelona.github.io/ipython_notebook_goodies/ipython_notebook_toc.js')\n"
      ],
      "text/plain": [
       "<IPython.core.display.Javascript object>"
      ]
     },
     "metadata": {},
     "output_type": "display_data"
    }
   ],
   "source": [
    "%%javascript\n",
    "$.getScript('https://kmahelona.github.io/ipython_notebook_goodies/ipython_notebook_toc.js')"
   ]
  },
  {
   "cell_type": "markdown",
   "metadata": {},
   "source": [
    "<h1 id=\"tocheading\"><u>ConfigDict POC</u></h1><div id=\"toc\"></div>\n",
    "\n",
    "The puprose of this POC is to find and justify a better approach for storing configuration of any arbitrary data science model\n",
    "\n",
    "- On of the most sufficient ideas is having tree based structue and access to any parameter using a string with dots as a key. Easy access to parameter in IDE using \"intellisense\".This should allow easily extract/save any related group of parameters\n",
    "\n",
    "- The second idea is the abitity to unroll the tree structue into one dimentional array. This should allow easily access and change values of any the node in a tree just using  key/value syntax as well as making a dictionary of all nodes.\n",
    "\n",
    "- The **\\__repr\\__()** method should reflect the actuall tree-based structure of the config container \n",
    "\n",
    "- The **\\__str__()** method must work like the **\\__repr\\__()** method, but all the indentation, spaces and carriage returns or new line symbols have to be removed from the returning string\n",
    "\n",
    "- constructor have to convert any dictionary of nested dictionay into the **ConfigDict** object\n",
    "- serialize **ConfigDict** into ordinary **dict** and vice versa\n",
    "\n"
   ]
  },
  {
   "cell_type": "code",
   "execution_count": 2,
   "metadata": {},
   "outputs": [],
   "source": [
    "import json\n",
    "import datetime\n",
    "import pandas as pd\n",
    "from dateutil.relativedelta import relativedelta\n",
    "from IPython.core.debugger import Pdb\n",
    "\n",
    "import sys\n"
   ]
  },
  {
   "cell_type": "code",
   "execution_count": 3,
   "metadata": {},
   "outputs": [],
   "source": [
    "from ConfigDict import ConfigDict"
   ]
  },
  {
   "cell_type": "markdown",
   "metadata": {},
   "source": [
    "## <u>ConfigDict</u> Implementation"
   ]
  },
  {
   "cell_type": "code",
   "execution_count": 4,
   "metadata": {},
   "outputs": [],
   "source": [
    "# class ConfigDict():\n",
    "    \n",
    "#     _indent = \"  \"\n",
    "    \n",
    "#     def __init__(self, data=None, default=None):\n",
    "#         if default is not None:\n",
    "#             self._update(default)\n",
    "#         if data is not None:\n",
    "#             self._update(data)\n",
    "            \n",
    "#     def _update(self, data):\n",
    "#         if (data is not None) and (isinstance(data, dict) or (isinstance(data, ConfigDict))):\n",
    "#             for k in data:\n",
    "#                 if isinstance(data[k],dict):\n",
    "#                     try:\n",
    "#                         _node = self[k]\n",
    "#                         _node._update(data[k])\n",
    "#                     except:\n",
    "#                         _node = ConfigDict(data[k])\n",
    "                        \n",
    "#                     self.__setitem__(k, _node) \n",
    "#                 else:\n",
    "#                     self.__setitem__(k, data[k])\n",
    "#             return\n",
    "        \n",
    "#         if (data is not None):\n",
    "#             raise ValueError(\"Expect 'dict' or 'ConfigDict' as a parameter\")\n",
    "            \n",
    "\n",
    "#     def __setitem__(self, key, value):\n",
    "#         _node = self\n",
    "#         keys = key.split('.')\n",
    "#         for k in keys[:-1]:\n",
    "#             if _node.__dict__.get(k) is None:\n",
    "#                 _new_node = ConfigDict()\n",
    "#                 _node.__setattr__(k, _new_node)\n",
    "#                 _node = _new_node\n",
    "#             else:\n",
    "#                 _node = _node.__getattribute__(k)\n",
    "            \n",
    "#         k = keys[-1]\n",
    "#         _node.__setattr__(k, value)\n",
    "\n",
    "#     def __getitem__(self, key):\n",
    "#         keys = key.split('.')\n",
    "#         _node = self\n",
    "#         for k in keys[:-1]:\n",
    "#             next_node = _node.__dict__.get(k)\n",
    "#             if next_node is None:\n",
    "#                 raise AttributeError(\"'{}' object has no attribute '{}'\".format(self.__class__.__name__ , k))\n",
    "#             else:\n",
    "#                 _node = next_node\n",
    "            \n",
    "#         return _node.__getattribute__(keys[-1])\n",
    "    \n",
    "#     @classmethod\n",
    "#     def _adict_repr(cls, o, level:int=0, indent=\"\"):\n",
    "#         _pre = indent*(level+1) if level > 0 else indent\n",
    "#         _img = \"\"\n",
    "#         if level == 0:\n",
    "#             _img += \"{\\n\"   #1\n",
    "#         _s = ','\n",
    "#         _l = len(o.__dict__)\n",
    "#         if isinstance(o, ConfigDict):\n",
    "#             for e in o.__dict__.items():\n",
    "#                 _l -= 1\n",
    "#                 if isinstance(e[1], ConfigDict):\n",
    "#                     _img += _pre+'\"'+ e[0]+ '\":{\\n' #2\n",
    "#                     _img += ConfigDict._adict_repr(o=e[1], level=level+1, indent=indent) + \"\\n\"\n",
    "#                 else:\n",
    "#                     _img += _pre+'\"' + e[0] + '\":'+ e[1].__repr__() + _s+\"\\n\"\n",
    "\n",
    "#                 if _l == 0:\n",
    "#                     _img = _img[:-2]+\"\\n\"\n",
    "\n",
    "#         if level == 0:\n",
    "#             _img += \"}\\n\"\n",
    "#         else:\n",
    "#             _pre=indent*level if level > 0 else \"\"\n",
    "#             _img += _pre+'}'+_s\n",
    "#         return _img\n",
    "    \n",
    "#     def __repr__(self) -> str:\n",
    "#         return ConfigDict._adict_repr(o=self, level=0, indent=ConfigDict._indent)\n",
    "    \n",
    "#     def __str__(self):\n",
    "#         s = ConfigDict._adict_repr(o=self, level=0, indent=\"\")\n",
    "#         return s.replace('\\n', '')\n",
    "    \n",
    "#     def __len__(self):\n",
    "#         return len(self._getnames(o=self))\n",
    "    \n",
    "#     @classmethod\n",
    "#     def _getnames(cls, o, nm:str=''):\n",
    "#         _names = []\n",
    "#         for e in o.__dict__:\n",
    "#             if isinstance(o[e],cls):\n",
    "#                 _names.extend(o[e]._getnames(o=o[e], nm=nm+e+'.'))\n",
    "#             else:\n",
    "#                 _names.append(nm+e)\n",
    "#         return _names\n",
    "    \n",
    "#     def __iter__(self):       \n",
    "#         return { e:self[e] for e in self._getnames(self)}.__iter__()                \n"
   ]
  },
  {
   "cell_type": "markdown",
   "metadata": {},
   "source": [
    "## Create/update nodes using \\__setitem\\__() method"
   ]
  },
  {
   "cell_type": "code",
   "execution_count": 5,
   "metadata": {},
   "outputs": [],
   "source": [
    "ad = ConfigDict()\n",
    "ad['CCC'] = 'sdkjhjksdfh'\n",
    "ad['CC2'] = '3333'"
   ]
  },
  {
   "cell_type": "code",
   "execution_count": 6,
   "metadata": {},
   "outputs": [
    {
     "data": {
      "text/plain": [
       "'sdkjhjksdfh'"
      ]
     },
     "execution_count": 6,
     "metadata": {},
     "output_type": "execute_result"
    }
   ],
   "source": [
    "ad.CCC"
   ]
  },
  {
   "cell_type": "code",
   "execution_count": 7,
   "metadata": {},
   "outputs": [],
   "source": [
    "ad['ZZZZZ.kkkk'] = 10\n",
    "ad['ZZZZZ.aa'] = 'aa'\n",
    "ad['ZZZZZ.rdt'] = relativedelta(years=2)\n",
    "ad['ZZ1.Z2.Z3.kkkk'] = 11\n",
    "ad['ZZ1.Z2.kkkk'] = 12\n",
    "ad['CC3'] = 'xxx3333'\n",
    "ad['config.par1'] = 'parameter N 1'\n",
    "ad['config.par2'] = 'parameter N 2'\n",
    "ad['config.par3'] = 3\n",
    "ad.dt = datetime.datetime.now()\n"
   ]
  },
  {
   "cell_type": "code",
   "execution_count": 8,
   "metadata": {},
   "outputs": [
    {
     "data": {
      "text/plain": [
       "{\n",
       "  \"par1\":'parameter N 1',\n",
       "  \"par2\":'parameter N 2',\n",
       "  \"par3\":3\n",
       "}"
      ]
     },
     "metadata": {},
     "output_type": "display_data"
    },
    {
     "data": {
      "text/plain": [
       "{\n",
       "  \"par1\":'parameter N 1',\n",
       "  \"par2\":'parameter N 2',\n",
       "  \"par3\":3\n",
       "}"
      ]
     },
     "metadata": {},
     "output_type": "display_data"
    },
    {
     "data": {
      "text/plain": [
       "('parameter N 1', 'parameter N 2', 3)"
      ]
     },
     "execution_count": 8,
     "metadata": {},
     "output_type": "execute_result"
    }
   ],
   "source": [
    "display(ad.config)\n",
    "cfg = ad.config\n",
    "display(cfg)\n",
    "cfg.par1, cfg.par2, cfg.par3"
   ]
  },
  {
   "cell_type": "code",
   "execution_count": 9,
   "metadata": {},
   "outputs": [
    {
     "data": {
      "text/plain": [
       "(10, 11, 12, '=', 10, 11, 12)"
      ]
     },
     "execution_count": 9,
     "metadata": {},
     "output_type": "execute_result"
    }
   ],
   "source": [
    "assert \\\n",
    "    (ad.ZZZZZ.kkkk, ad.ZZ1.Z2.Z3.kkkk, ad.ZZ1.Z2.kkkk) == \\\n",
    "    (ad['ZZZZZ.kkkk'], ad['ZZ1.Z2.Z3.kkkk'], ad['ZZ1.Z2.kkkk']), \\\n",
    "    \"Bug:\" \n",
    "\n",
    "ad.ZZZZZ.kkkk, ad.ZZ1.Z2.Z3.kkkk, ad.ZZ1.Z2.kkkk,'=', ad['ZZZZZ.kkkk'], ad['ZZ1.Z2.Z3.kkkk'], ad['ZZ1.Z2.kkkk']\n"
   ]
  },
  {
   "cell_type": "markdown",
   "metadata": {},
   "source": [
    "## Check for \\__repr\\__()  method"
   ]
  },
  {
   "cell_type": "code",
   "execution_count": 10,
   "metadata": {},
   "outputs": [
    {
     "data": {
      "text/plain": [
       "{\n",
       "  \"CCC\":'sdkjhjksdfh',\n",
       "  \"CC2\":'3333',\n",
       "  \"ZZZZZ\":{\n",
       "    \"kkkk\":10,\n",
       "    \"aa\":'aa',\n",
       "    \"rdt\":relativedelta(years=+2)\n",
       "  },\n",
       "  \"ZZ1\":{\n",
       "    \"Z2\":{\n",
       "      \"Z3\":{\n",
       "        \"kkkk\":11\n",
       "      },\n",
       "      \"kkkk\":12\n",
       "    }\n",
       "  },\n",
       "  \"CC3\":'xxx3333',\n",
       "  \"config\":{\n",
       "    \"par1\":'parameter N 1',\n",
       "    \"par2\":'parameter N 2',\n",
       "    \"par3\":3\n",
       "  },\n",
       "  \"dt\":datetime.datetime(2020, 4, 1, 2, 7, 57, 356984)\n",
       "}"
      ]
     },
     "metadata": {},
     "output_type": "display_data"
    }
   ],
   "source": [
    "display(ad)"
   ]
  },
  {
   "cell_type": "markdown",
   "metadata": {},
   "source": [
    "## Check for \\__str\\__()  method"
   ]
  },
  {
   "cell_type": "code",
   "execution_count": 11,
   "metadata": {},
   "outputs": [
    {
     "name": "stdout",
     "output_type": "stream",
     "text": [
      "{\"CCC\":'sdkjhjksdfh',\"CC2\":'3333',\"ZZZZZ\":{\"kkkk\":10,\"aa\":'aa',\"rdt\":relativedelta(years=+2)},\"ZZ1\":{\"Z2\":{\"Z3\":{\"kkkk\":11},\"kkkk\":12}},\"CC3\":'xxx3333',\"config\":{\"par1\":'parameter N 1',\"par2\":'parameter N 2',\"par3\":3},\"dt\":datetime.datetime(2020, 4, 1, 2, 7, 57, 356984)}\n"
     ]
    }
   ],
   "source": [
    "print(str(ad))"
   ]
  },
  {
   "cell_type": "markdown",
   "metadata": {},
   "source": [
    "## Array of nodes"
   ]
  },
  {
   "cell_type": "code",
   "execution_count": 12,
   "metadata": {},
   "outputs": [
    {
     "data": {
      "text/plain": [
       "['CCC',\n",
       " 'CC2',\n",
       " 'ZZZZZ.kkkk',\n",
       " 'ZZZZZ.aa',\n",
       " 'ZZZZZ.rdt',\n",
       " 'ZZ1.Z2.Z3.kkkk',\n",
       " 'ZZ1.Z2.kkkk',\n",
       " 'CC3',\n",
       " 'config.par1',\n",
       " 'config.par2',\n",
       " 'config.par3',\n",
       " 'dt']"
      ]
     },
     "execution_count": 12,
     "metadata": {},
     "output_type": "execute_result"
    }
   ],
   "source": [
    "[ nm for nm in ad]\n",
    "    "
   ]
  },
  {
   "cell_type": "markdown",
   "metadata": {},
   "source": [
    "## Dict of config parameter/value pairs"
   ]
  },
  {
   "cell_type": "code",
   "execution_count": 13,
   "metadata": {},
   "outputs": [
    {
     "data": {
      "text/plain": [
       "{'CCC': 'sdkjhjksdfh',\n",
       " 'CC2': '3333',\n",
       " 'ZZZZZ.kkkk': 10,\n",
       " 'ZZZZZ.aa': 'aa',\n",
       " 'ZZZZZ.rdt': relativedelta(years=+2),\n",
       " 'ZZ1.Z2.Z3.kkkk': 11,\n",
       " 'ZZ1.Z2.kkkk': 12,\n",
       " 'CC3': 'xxx3333',\n",
       " 'config.par1': 'parameter N 1',\n",
       " 'config.par2': 'parameter N 2',\n",
       " 'config.par3': 3,\n",
       " 'dt': datetime.datetime(2020, 4, 1, 2, 7, 57, 356984)}"
      ]
     },
     "execution_count": 13,
     "metadata": {},
     "output_type": "execute_result"
    }
   ],
   "source": [
    "dd = { nm:ad[nm] for nm in ad }\n",
    "dd"
   ]
  },
  {
   "cell_type": "code",
   "execution_count": 14,
   "metadata": {},
   "outputs": [
    {
     "data": {
      "text/plain": [
       "{\n",
       "}"
      ]
     },
     "metadata": {},
     "output_type": "display_data"
    }
   ],
   "source": [
    "_cfg = ConfigDict()\n",
    "display(_cfg)"
   ]
  },
  {
   "cell_type": "code",
   "execution_count": 15,
   "metadata": {},
   "outputs": [
    {
     "data": {
      "text/plain": [
       "{\n",
       "  \"CCC\":'sdkjhjksdfh',\n",
       "  \"CC2\":'3333',\n",
       "  \"ZZZZZ\":{\n",
       "    \"kkkk\":10,\n",
       "    \"aa\":'aa',\n",
       "    \"rdt\":relativedelta(years=+2)\n",
       "  },\n",
       "  \"ZZ1\":{\n",
       "    \"Z2\":{\n",
       "      \"Z3\":{\n",
       "        \"kkkk\":11\n",
       "      },\n",
       "      \"kkkk\":12\n",
       "    }\n",
       "  },\n",
       "  \"CC3\":'xxx3333',\n",
       "  \"config\":{\n",
       "    \"par1\":'parameter N 1',\n",
       "    \"par2\":'parameter N 2',\n",
       "    \"par3\":3\n",
       "  },\n",
       "  \"dt\":datetime.datetime(2020, 4, 1, 2, 7, 57, 356984)\n",
       "}"
      ]
     },
     "metadata": {},
     "output_type": "display_data"
    }
   ],
   "source": [
    "for k, v in dd.items():\n",
    "    _cfg[k] = v\n",
    "\n",
    "display(_cfg)\n"
   ]
  },
  {
   "cell_type": "code",
   "execution_count": 16,
   "metadata": {},
   "outputs": [],
   "source": [
    "ad.CCC = ['a', 'b', 'c', 'd']"
   ]
  },
  {
   "cell_type": "code",
   "execution_count": 17,
   "metadata": {},
   "outputs": [
    {
     "data": {
      "text/plain": [
       "12"
      ]
     },
     "execution_count": 17,
     "metadata": {},
     "output_type": "execute_result"
    }
   ],
   "source": [
    "len(ad)"
   ]
  },
  {
   "cell_type": "code",
   "execution_count": 18,
   "metadata": {},
   "outputs": [
    {
     "data": {
      "text/plain": [
       "{\n",
       "  \"CCC\":['a', 'b', 'c', 'd'],\n",
       "  \"CC2\":'3333',\n",
       "  \"ZZZZZ\":{\n",
       "    \"kkkk\":10,\n",
       "    \"aa\":'aa',\n",
       "    \"rdt\":relativedelta(years=+2)\n",
       "  },\n",
       "  \"ZZ1\":{\n",
       "    \"Z2\":{\n",
       "      \"Z3\":{\n",
       "        \"kkkk\":11\n",
       "      },\n",
       "      \"kkkk\":12\n",
       "    }\n",
       "  },\n",
       "  \"CC3\":'xxx3333',\n",
       "  \"config\":{\n",
       "    \"par1\":'parameter N 1',\n",
       "    \"par2\":'parameter N 2',\n",
       "    \"par3\":3\n",
       "  },\n",
       "  \"dt\":datetime.datetime(2020, 4, 1, 2, 7, 57, 356984)\n",
       "}"
      ]
     },
     "execution_count": 18,
     "metadata": {},
     "output_type": "execute_result"
    }
   ],
   "source": [
    "ad"
   ]
  },
  {
   "cell_type": "code",
   "execution_count": 19,
   "metadata": {},
   "outputs": [
    {
     "data": {
      "text/plain": [
       "['a', 'b', 'c', 'd']"
      ]
     },
     "execution_count": 19,
     "metadata": {},
     "output_type": "execute_result"
    }
   ],
   "source": [
    "ad.CCC"
   ]
  },
  {
   "cell_type": "markdown",
   "metadata": {},
   "source": [
    "## From python dict to ConfigDict"
   ]
  },
  {
   "cell_type": "code",
   "execution_count": 20,
   "metadata": {},
   "outputs": [
    {
     "data": {
      "text/plain": [
       "{'CCC': ['a', 'b', 'c', 'd'],\n",
       " 'CC2': '3333',\n",
       " 'ZZZZZ': {'kkkk': 10, 'aa': 'aa', 'rdt': relativedelta(years=+2)},\n",
       " 'ZZ1': {'Z2': {'Z3': {'kkkk': 11}, 'kkkk': 12}},\n",
       " 'CC3': 'xxx3333',\n",
       " 'config': {'par1': 'parameter N 1', 'par2': 'parameter N 2', 'par3': 3},\n",
       " 'dt': datetime.datetime(2020, 2, 3, 16, 0, 19, 424738)}"
      ]
     },
     "execution_count": 20,
     "metadata": {},
     "output_type": "execute_result"
    }
   ],
   "source": [
    "_struct = {\n",
    "  \"CCC\":['a', 'b', 'c', 'd'],\n",
    "  \"CC2\":'3333',\n",
    "  \"ZZZZZ\":{\n",
    "    \"kkkk\":10,\n",
    "    \"aa\":'aa',\n",
    "    \"rdt\":relativedelta(years=+2)\n",
    "  },\n",
    "  \"ZZ1\":{\n",
    "    \"Z2\":{\n",
    "      \"Z3\":{\n",
    "        \"kkkk\":11\n",
    "      },\n",
    "      \"kkkk\":12\n",
    "    },\n",
    "  },\n",
    "  \"CC3\":'xxx3333',\n",
    "  \"config\":{\n",
    "    \"par1\":'parameter N 1',\n",
    "    \"par2\":'parameter N 2',\n",
    "    \"par3\":3\n",
    "  },\n",
    "  \"dt\":datetime.datetime(2020, 2, 3, 16, 0, 19, 424738)\n",
    "}\n",
    "_struct"
   ]
  },
  {
   "cell_type": "markdown",
   "metadata": {},
   "source": [
    "## Cartesian product / walk through all parameters"
   ]
  },
  {
   "cell_type": "code",
   "execution_count": 21,
   "metadata": {},
   "outputs": [],
   "source": [
    "import itertools"
   ]
  },
  {
   "cell_type": "code",
   "execution_count": 22,
   "metadata": {},
   "outputs": [
    {
     "data": {
      "text/plain": [
       "{'STRINGS': ['a', 'b', 'c'],\n",
       " 'DATES': [datetime.datetime(2020, 4, 1, 2, 8, 58, 452119),\n",
       "  datetime.datetime(2019, 12, 27, 2, 8, 58, 452119)],\n",
       " 'MISC': ['AAA', datetime.datetime(2020, 4, 1, 2, 8, 58, 452119), 1, 2, 3],\n",
       " 'FLOATS': [15.125, -0.001]}"
      ]
     },
     "execution_count": 22,
     "metadata": {},
     "output_type": "execute_result"
    }
   ],
   "source": [
    "s = {\n",
    "    'STRINGS': ['a', 'b', 'c'],\n",
    "    'DATES':   [ \n",
    "                    datetime.datetime.now(), \n",
    "                    datetime.datetime.now() + relativedelta(days= -96)\n",
    "               ],\n",
    "    'MISC': [ 'AAA', datetime.datetime.now(), 1,2,3],\n",
    "    'FLOATS':  [ 15.125, -.001]\n",
    "}\n",
    "s"
   ]
  },
  {
   "cell_type": "code",
   "execution_count": 23,
   "metadata": {},
   "outputs": [
    {
     "data": {
      "text/plain": [
       "[('a', datetime.datetime(2020, 4, 1, 2, 8, 58, 452119), 'AAA', 15.125),\n",
       " ('a', datetime.datetime(2020, 4, 1, 2, 8, 58, 452119), 'AAA', -0.001),\n",
       " ('a',\n",
       "  datetime.datetime(2020, 4, 1, 2, 8, 58, 452119),\n",
       "  datetime.datetime(2020, 4, 1, 2, 8, 58, 452119),\n",
       "  15.125),\n",
       " ('a',\n",
       "  datetime.datetime(2020, 4, 1, 2, 8, 58, 452119),\n",
       "  datetime.datetime(2020, 4, 1, 2, 8, 58, 452119),\n",
       "  -0.001),\n",
       " ('a', datetime.datetime(2020, 4, 1, 2, 8, 58, 452119), 1, 15.125),\n",
       " ('a', datetime.datetime(2020, 4, 1, 2, 8, 58, 452119), 1, -0.001),\n",
       " ('a', datetime.datetime(2020, 4, 1, 2, 8, 58, 452119), 2, 15.125),\n",
       " ('a', datetime.datetime(2020, 4, 1, 2, 8, 58, 452119), 2, -0.001),\n",
       " ('a', datetime.datetime(2020, 4, 1, 2, 8, 58, 452119), 3, 15.125),\n",
       " ('a', datetime.datetime(2020, 4, 1, 2, 8, 58, 452119), 3, -0.001),\n",
       " ('a', datetime.datetime(2019, 12, 27, 2, 8, 58, 452119), 'AAA', 15.125),\n",
       " ('a', datetime.datetime(2019, 12, 27, 2, 8, 58, 452119), 'AAA', -0.001),\n",
       " ('a',\n",
       "  datetime.datetime(2019, 12, 27, 2, 8, 58, 452119),\n",
       "  datetime.datetime(2020, 4, 1, 2, 8, 58, 452119),\n",
       "  15.125),\n",
       " ('a',\n",
       "  datetime.datetime(2019, 12, 27, 2, 8, 58, 452119),\n",
       "  datetime.datetime(2020, 4, 1, 2, 8, 58, 452119),\n",
       "  -0.001),\n",
       " ('a', datetime.datetime(2019, 12, 27, 2, 8, 58, 452119), 1, 15.125),\n",
       " ('a', datetime.datetime(2019, 12, 27, 2, 8, 58, 452119), 1, -0.001),\n",
       " ('a', datetime.datetime(2019, 12, 27, 2, 8, 58, 452119), 2, 15.125),\n",
       " ('a', datetime.datetime(2019, 12, 27, 2, 8, 58, 452119), 2, -0.001),\n",
       " ('a', datetime.datetime(2019, 12, 27, 2, 8, 58, 452119), 3, 15.125),\n",
       " ('a', datetime.datetime(2019, 12, 27, 2, 8, 58, 452119), 3, -0.001),\n",
       " ('b', datetime.datetime(2020, 4, 1, 2, 8, 58, 452119), 'AAA', 15.125),\n",
       " ('b', datetime.datetime(2020, 4, 1, 2, 8, 58, 452119), 'AAA', -0.001),\n",
       " ('b',\n",
       "  datetime.datetime(2020, 4, 1, 2, 8, 58, 452119),\n",
       "  datetime.datetime(2020, 4, 1, 2, 8, 58, 452119),\n",
       "  15.125),\n",
       " ('b',\n",
       "  datetime.datetime(2020, 4, 1, 2, 8, 58, 452119),\n",
       "  datetime.datetime(2020, 4, 1, 2, 8, 58, 452119),\n",
       "  -0.001),\n",
       " ('b', datetime.datetime(2020, 4, 1, 2, 8, 58, 452119), 1, 15.125),\n",
       " ('b', datetime.datetime(2020, 4, 1, 2, 8, 58, 452119), 1, -0.001),\n",
       " ('b', datetime.datetime(2020, 4, 1, 2, 8, 58, 452119), 2, 15.125),\n",
       " ('b', datetime.datetime(2020, 4, 1, 2, 8, 58, 452119), 2, -0.001),\n",
       " ('b', datetime.datetime(2020, 4, 1, 2, 8, 58, 452119), 3, 15.125),\n",
       " ('b', datetime.datetime(2020, 4, 1, 2, 8, 58, 452119), 3, -0.001),\n",
       " ('b', datetime.datetime(2019, 12, 27, 2, 8, 58, 452119), 'AAA', 15.125),\n",
       " ('b', datetime.datetime(2019, 12, 27, 2, 8, 58, 452119), 'AAA', -0.001),\n",
       " ('b',\n",
       "  datetime.datetime(2019, 12, 27, 2, 8, 58, 452119),\n",
       "  datetime.datetime(2020, 4, 1, 2, 8, 58, 452119),\n",
       "  15.125),\n",
       " ('b',\n",
       "  datetime.datetime(2019, 12, 27, 2, 8, 58, 452119),\n",
       "  datetime.datetime(2020, 4, 1, 2, 8, 58, 452119),\n",
       "  -0.001),\n",
       " ('b', datetime.datetime(2019, 12, 27, 2, 8, 58, 452119), 1, 15.125),\n",
       " ('b', datetime.datetime(2019, 12, 27, 2, 8, 58, 452119), 1, -0.001),\n",
       " ('b', datetime.datetime(2019, 12, 27, 2, 8, 58, 452119), 2, 15.125),\n",
       " ('b', datetime.datetime(2019, 12, 27, 2, 8, 58, 452119), 2, -0.001),\n",
       " ('b', datetime.datetime(2019, 12, 27, 2, 8, 58, 452119), 3, 15.125),\n",
       " ('b', datetime.datetime(2019, 12, 27, 2, 8, 58, 452119), 3, -0.001),\n",
       " ('c', datetime.datetime(2020, 4, 1, 2, 8, 58, 452119), 'AAA', 15.125),\n",
       " ('c', datetime.datetime(2020, 4, 1, 2, 8, 58, 452119), 'AAA', -0.001),\n",
       " ('c',\n",
       "  datetime.datetime(2020, 4, 1, 2, 8, 58, 452119),\n",
       "  datetime.datetime(2020, 4, 1, 2, 8, 58, 452119),\n",
       "  15.125),\n",
       " ('c',\n",
       "  datetime.datetime(2020, 4, 1, 2, 8, 58, 452119),\n",
       "  datetime.datetime(2020, 4, 1, 2, 8, 58, 452119),\n",
       "  -0.001),\n",
       " ('c', datetime.datetime(2020, 4, 1, 2, 8, 58, 452119), 1, 15.125),\n",
       " ('c', datetime.datetime(2020, 4, 1, 2, 8, 58, 452119), 1, -0.001),\n",
       " ('c', datetime.datetime(2020, 4, 1, 2, 8, 58, 452119), 2, 15.125),\n",
       " ('c', datetime.datetime(2020, 4, 1, 2, 8, 58, 452119), 2, -0.001),\n",
       " ('c', datetime.datetime(2020, 4, 1, 2, 8, 58, 452119), 3, 15.125),\n",
       " ('c', datetime.datetime(2020, 4, 1, 2, 8, 58, 452119), 3, -0.001),\n",
       " ('c', datetime.datetime(2019, 12, 27, 2, 8, 58, 452119), 'AAA', 15.125),\n",
       " ('c', datetime.datetime(2019, 12, 27, 2, 8, 58, 452119), 'AAA', -0.001),\n",
       " ('c',\n",
       "  datetime.datetime(2019, 12, 27, 2, 8, 58, 452119),\n",
       "  datetime.datetime(2020, 4, 1, 2, 8, 58, 452119),\n",
       "  15.125),\n",
       " ('c',\n",
       "  datetime.datetime(2019, 12, 27, 2, 8, 58, 452119),\n",
       "  datetime.datetime(2020, 4, 1, 2, 8, 58, 452119),\n",
       "  -0.001),\n",
       " ('c', datetime.datetime(2019, 12, 27, 2, 8, 58, 452119), 1, 15.125),\n",
       " ('c', datetime.datetime(2019, 12, 27, 2, 8, 58, 452119), 1, -0.001),\n",
       " ('c', datetime.datetime(2019, 12, 27, 2, 8, 58, 452119), 2, 15.125),\n",
       " ('c', datetime.datetime(2019, 12, 27, 2, 8, 58, 452119), 2, -0.001),\n",
       " ('c', datetime.datetime(2019, 12, 27, 2, 8, 58, 452119), 3, 15.125),\n",
       " ('c', datetime.datetime(2019, 12, 27, 2, 8, 58, 452119), 3, -0.001)]"
      ]
     },
     "execution_count": 23,
     "metadata": {},
     "output_type": "execute_result"
    }
   ],
   "source": [
    "[e for e in itertools.product(*[s[e] for e in s])]"
   ]
  },
  {
   "cell_type": "code",
   "execution_count": 24,
   "metadata": {},
   "outputs": [
    {
     "data": {
      "text/html": [
       "<div>\n",
       "<style scoped>\n",
       "    .dataframe tbody tr th:only-of-type {\n",
       "        vertical-align: middle;\n",
       "    }\n",
       "\n",
       "    .dataframe tbody tr th {\n",
       "        vertical-align: top;\n",
       "    }\n",
       "\n",
       "    .dataframe thead th {\n",
       "        text-align: right;\n",
       "    }\n",
       "</style>\n",
       "<table border=\"1\" class=\"dataframe\">\n",
       "  <thead>\n",
       "    <tr style=\"text-align: right;\">\n",
       "      <th></th>\n",
       "      <th>STRINGS</th>\n",
       "      <th>DATES</th>\n",
       "      <th>MISC</th>\n",
       "      <th>FLOATS</th>\n",
       "    </tr>\n",
       "  </thead>\n",
       "  <tbody>\n",
       "    <tr>\n",
       "      <th>0</th>\n",
       "      <td>a</td>\n",
       "      <td>2020-04-01 02:08:58.452119</td>\n",
       "      <td>AAA</td>\n",
       "      <td>15.125</td>\n",
       "    </tr>\n",
       "    <tr>\n",
       "      <th>1</th>\n",
       "      <td>a</td>\n",
       "      <td>2020-04-01 02:08:58.452119</td>\n",
       "      <td>AAA</td>\n",
       "      <td>-0.001</td>\n",
       "    </tr>\n",
       "    <tr>\n",
       "      <th>2</th>\n",
       "      <td>a</td>\n",
       "      <td>2020-04-01 02:08:58.452119</td>\n",
       "      <td>2020-04-01 02:08:58.452119</td>\n",
       "      <td>15.125</td>\n",
       "    </tr>\n",
       "    <tr>\n",
       "      <th>3</th>\n",
       "      <td>a</td>\n",
       "      <td>2020-04-01 02:08:58.452119</td>\n",
       "      <td>2020-04-01 02:08:58.452119</td>\n",
       "      <td>-0.001</td>\n",
       "    </tr>\n",
       "    <tr>\n",
       "      <th>4</th>\n",
       "      <td>a</td>\n",
       "      <td>2020-04-01 02:08:58.452119</td>\n",
       "      <td>1</td>\n",
       "      <td>15.125</td>\n",
       "    </tr>\n",
       "    <tr>\n",
       "      <th>5</th>\n",
       "      <td>a</td>\n",
       "      <td>2020-04-01 02:08:58.452119</td>\n",
       "      <td>1</td>\n",
       "      <td>-0.001</td>\n",
       "    </tr>\n",
       "    <tr>\n",
       "      <th>6</th>\n",
       "      <td>a</td>\n",
       "      <td>2020-04-01 02:08:58.452119</td>\n",
       "      <td>2</td>\n",
       "      <td>15.125</td>\n",
       "    </tr>\n",
       "    <tr>\n",
       "      <th>7</th>\n",
       "      <td>a</td>\n",
       "      <td>2020-04-01 02:08:58.452119</td>\n",
       "      <td>2</td>\n",
       "      <td>-0.001</td>\n",
       "    </tr>\n",
       "    <tr>\n",
       "      <th>8</th>\n",
       "      <td>a</td>\n",
       "      <td>2020-04-01 02:08:58.452119</td>\n",
       "      <td>3</td>\n",
       "      <td>15.125</td>\n",
       "    </tr>\n",
       "    <tr>\n",
       "      <th>9</th>\n",
       "      <td>a</td>\n",
       "      <td>2020-04-01 02:08:58.452119</td>\n",
       "      <td>3</td>\n",
       "      <td>-0.001</td>\n",
       "    </tr>\n",
       "    <tr>\n",
       "      <th>10</th>\n",
       "      <td>a</td>\n",
       "      <td>2019-12-27 02:08:58.452119</td>\n",
       "      <td>AAA</td>\n",
       "      <td>15.125</td>\n",
       "    </tr>\n",
       "    <tr>\n",
       "      <th>11</th>\n",
       "      <td>a</td>\n",
       "      <td>2019-12-27 02:08:58.452119</td>\n",
       "      <td>AAA</td>\n",
       "      <td>-0.001</td>\n",
       "    </tr>\n",
       "    <tr>\n",
       "      <th>12</th>\n",
       "      <td>a</td>\n",
       "      <td>2019-12-27 02:08:58.452119</td>\n",
       "      <td>2020-04-01 02:08:58.452119</td>\n",
       "      <td>15.125</td>\n",
       "    </tr>\n",
       "    <tr>\n",
       "      <th>13</th>\n",
       "      <td>a</td>\n",
       "      <td>2019-12-27 02:08:58.452119</td>\n",
       "      <td>2020-04-01 02:08:58.452119</td>\n",
       "      <td>-0.001</td>\n",
       "    </tr>\n",
       "    <tr>\n",
       "      <th>14</th>\n",
       "      <td>a</td>\n",
       "      <td>2019-12-27 02:08:58.452119</td>\n",
       "      <td>1</td>\n",
       "      <td>15.125</td>\n",
       "    </tr>\n",
       "    <tr>\n",
       "      <th>15</th>\n",
       "      <td>a</td>\n",
       "      <td>2019-12-27 02:08:58.452119</td>\n",
       "      <td>1</td>\n",
       "      <td>-0.001</td>\n",
       "    </tr>\n",
       "    <tr>\n",
       "      <th>16</th>\n",
       "      <td>a</td>\n",
       "      <td>2019-12-27 02:08:58.452119</td>\n",
       "      <td>2</td>\n",
       "      <td>15.125</td>\n",
       "    </tr>\n",
       "    <tr>\n",
       "      <th>17</th>\n",
       "      <td>a</td>\n",
       "      <td>2019-12-27 02:08:58.452119</td>\n",
       "      <td>2</td>\n",
       "      <td>-0.001</td>\n",
       "    </tr>\n",
       "    <tr>\n",
       "      <th>18</th>\n",
       "      <td>a</td>\n",
       "      <td>2019-12-27 02:08:58.452119</td>\n",
       "      <td>3</td>\n",
       "      <td>15.125</td>\n",
       "    </tr>\n",
       "    <tr>\n",
       "      <th>19</th>\n",
       "      <td>a</td>\n",
       "      <td>2019-12-27 02:08:58.452119</td>\n",
       "      <td>3</td>\n",
       "      <td>-0.001</td>\n",
       "    </tr>\n",
       "    <tr>\n",
       "      <th>20</th>\n",
       "      <td>b</td>\n",
       "      <td>2020-04-01 02:08:58.452119</td>\n",
       "      <td>AAA</td>\n",
       "      <td>15.125</td>\n",
       "    </tr>\n",
       "    <tr>\n",
       "      <th>21</th>\n",
       "      <td>b</td>\n",
       "      <td>2020-04-01 02:08:58.452119</td>\n",
       "      <td>AAA</td>\n",
       "      <td>-0.001</td>\n",
       "    </tr>\n",
       "    <tr>\n",
       "      <th>22</th>\n",
       "      <td>b</td>\n",
       "      <td>2020-04-01 02:08:58.452119</td>\n",
       "      <td>2020-04-01 02:08:58.452119</td>\n",
       "      <td>15.125</td>\n",
       "    </tr>\n",
       "    <tr>\n",
       "      <th>23</th>\n",
       "      <td>b</td>\n",
       "      <td>2020-04-01 02:08:58.452119</td>\n",
       "      <td>2020-04-01 02:08:58.452119</td>\n",
       "      <td>-0.001</td>\n",
       "    </tr>\n",
       "    <tr>\n",
       "      <th>24</th>\n",
       "      <td>b</td>\n",
       "      <td>2020-04-01 02:08:58.452119</td>\n",
       "      <td>1</td>\n",
       "      <td>15.125</td>\n",
       "    </tr>\n",
       "    <tr>\n",
       "      <th>25</th>\n",
       "      <td>b</td>\n",
       "      <td>2020-04-01 02:08:58.452119</td>\n",
       "      <td>1</td>\n",
       "      <td>-0.001</td>\n",
       "    </tr>\n",
       "    <tr>\n",
       "      <th>26</th>\n",
       "      <td>b</td>\n",
       "      <td>2020-04-01 02:08:58.452119</td>\n",
       "      <td>2</td>\n",
       "      <td>15.125</td>\n",
       "    </tr>\n",
       "    <tr>\n",
       "      <th>27</th>\n",
       "      <td>b</td>\n",
       "      <td>2020-04-01 02:08:58.452119</td>\n",
       "      <td>2</td>\n",
       "      <td>-0.001</td>\n",
       "    </tr>\n",
       "    <tr>\n",
       "      <th>28</th>\n",
       "      <td>b</td>\n",
       "      <td>2020-04-01 02:08:58.452119</td>\n",
       "      <td>3</td>\n",
       "      <td>15.125</td>\n",
       "    </tr>\n",
       "    <tr>\n",
       "      <th>29</th>\n",
       "      <td>b</td>\n",
       "      <td>2020-04-01 02:08:58.452119</td>\n",
       "      <td>3</td>\n",
       "      <td>-0.001</td>\n",
       "    </tr>\n",
       "    <tr>\n",
       "      <th>30</th>\n",
       "      <td>b</td>\n",
       "      <td>2019-12-27 02:08:58.452119</td>\n",
       "      <td>AAA</td>\n",
       "      <td>15.125</td>\n",
       "    </tr>\n",
       "    <tr>\n",
       "      <th>31</th>\n",
       "      <td>b</td>\n",
       "      <td>2019-12-27 02:08:58.452119</td>\n",
       "      <td>AAA</td>\n",
       "      <td>-0.001</td>\n",
       "    </tr>\n",
       "    <tr>\n",
       "      <th>32</th>\n",
       "      <td>b</td>\n",
       "      <td>2019-12-27 02:08:58.452119</td>\n",
       "      <td>2020-04-01 02:08:58.452119</td>\n",
       "      <td>15.125</td>\n",
       "    </tr>\n",
       "    <tr>\n",
       "      <th>33</th>\n",
       "      <td>b</td>\n",
       "      <td>2019-12-27 02:08:58.452119</td>\n",
       "      <td>2020-04-01 02:08:58.452119</td>\n",
       "      <td>-0.001</td>\n",
       "    </tr>\n",
       "    <tr>\n",
       "      <th>34</th>\n",
       "      <td>b</td>\n",
       "      <td>2019-12-27 02:08:58.452119</td>\n",
       "      <td>1</td>\n",
       "      <td>15.125</td>\n",
       "    </tr>\n",
       "    <tr>\n",
       "      <th>35</th>\n",
       "      <td>b</td>\n",
       "      <td>2019-12-27 02:08:58.452119</td>\n",
       "      <td>1</td>\n",
       "      <td>-0.001</td>\n",
       "    </tr>\n",
       "    <tr>\n",
       "      <th>36</th>\n",
       "      <td>b</td>\n",
       "      <td>2019-12-27 02:08:58.452119</td>\n",
       "      <td>2</td>\n",
       "      <td>15.125</td>\n",
       "    </tr>\n",
       "    <tr>\n",
       "      <th>37</th>\n",
       "      <td>b</td>\n",
       "      <td>2019-12-27 02:08:58.452119</td>\n",
       "      <td>2</td>\n",
       "      <td>-0.001</td>\n",
       "    </tr>\n",
       "    <tr>\n",
       "      <th>38</th>\n",
       "      <td>b</td>\n",
       "      <td>2019-12-27 02:08:58.452119</td>\n",
       "      <td>3</td>\n",
       "      <td>15.125</td>\n",
       "    </tr>\n",
       "    <tr>\n",
       "      <th>39</th>\n",
       "      <td>b</td>\n",
       "      <td>2019-12-27 02:08:58.452119</td>\n",
       "      <td>3</td>\n",
       "      <td>-0.001</td>\n",
       "    </tr>\n",
       "    <tr>\n",
       "      <th>40</th>\n",
       "      <td>c</td>\n",
       "      <td>2020-04-01 02:08:58.452119</td>\n",
       "      <td>AAA</td>\n",
       "      <td>15.125</td>\n",
       "    </tr>\n",
       "    <tr>\n",
       "      <th>41</th>\n",
       "      <td>c</td>\n",
       "      <td>2020-04-01 02:08:58.452119</td>\n",
       "      <td>AAA</td>\n",
       "      <td>-0.001</td>\n",
       "    </tr>\n",
       "    <tr>\n",
       "      <th>42</th>\n",
       "      <td>c</td>\n",
       "      <td>2020-04-01 02:08:58.452119</td>\n",
       "      <td>2020-04-01 02:08:58.452119</td>\n",
       "      <td>15.125</td>\n",
       "    </tr>\n",
       "    <tr>\n",
       "      <th>43</th>\n",
       "      <td>c</td>\n",
       "      <td>2020-04-01 02:08:58.452119</td>\n",
       "      <td>2020-04-01 02:08:58.452119</td>\n",
       "      <td>-0.001</td>\n",
       "    </tr>\n",
       "    <tr>\n",
       "      <th>44</th>\n",
       "      <td>c</td>\n",
       "      <td>2020-04-01 02:08:58.452119</td>\n",
       "      <td>1</td>\n",
       "      <td>15.125</td>\n",
       "    </tr>\n",
       "    <tr>\n",
       "      <th>45</th>\n",
       "      <td>c</td>\n",
       "      <td>2020-04-01 02:08:58.452119</td>\n",
       "      <td>1</td>\n",
       "      <td>-0.001</td>\n",
       "    </tr>\n",
       "    <tr>\n",
       "      <th>46</th>\n",
       "      <td>c</td>\n",
       "      <td>2020-04-01 02:08:58.452119</td>\n",
       "      <td>2</td>\n",
       "      <td>15.125</td>\n",
       "    </tr>\n",
       "    <tr>\n",
       "      <th>47</th>\n",
       "      <td>c</td>\n",
       "      <td>2020-04-01 02:08:58.452119</td>\n",
       "      <td>2</td>\n",
       "      <td>-0.001</td>\n",
       "    </tr>\n",
       "    <tr>\n",
       "      <th>48</th>\n",
       "      <td>c</td>\n",
       "      <td>2020-04-01 02:08:58.452119</td>\n",
       "      <td>3</td>\n",
       "      <td>15.125</td>\n",
       "    </tr>\n",
       "    <tr>\n",
       "      <th>49</th>\n",
       "      <td>c</td>\n",
       "      <td>2020-04-01 02:08:58.452119</td>\n",
       "      <td>3</td>\n",
       "      <td>-0.001</td>\n",
       "    </tr>\n",
       "    <tr>\n",
       "      <th>50</th>\n",
       "      <td>c</td>\n",
       "      <td>2019-12-27 02:08:58.452119</td>\n",
       "      <td>AAA</td>\n",
       "      <td>15.125</td>\n",
       "    </tr>\n",
       "    <tr>\n",
       "      <th>51</th>\n",
       "      <td>c</td>\n",
       "      <td>2019-12-27 02:08:58.452119</td>\n",
       "      <td>AAA</td>\n",
       "      <td>-0.001</td>\n",
       "    </tr>\n",
       "    <tr>\n",
       "      <th>52</th>\n",
       "      <td>c</td>\n",
       "      <td>2019-12-27 02:08:58.452119</td>\n",
       "      <td>2020-04-01 02:08:58.452119</td>\n",
       "      <td>15.125</td>\n",
       "    </tr>\n",
       "    <tr>\n",
       "      <th>53</th>\n",
       "      <td>c</td>\n",
       "      <td>2019-12-27 02:08:58.452119</td>\n",
       "      <td>2020-04-01 02:08:58.452119</td>\n",
       "      <td>-0.001</td>\n",
       "    </tr>\n",
       "    <tr>\n",
       "      <th>54</th>\n",
       "      <td>c</td>\n",
       "      <td>2019-12-27 02:08:58.452119</td>\n",
       "      <td>1</td>\n",
       "      <td>15.125</td>\n",
       "    </tr>\n",
       "    <tr>\n",
       "      <th>55</th>\n",
       "      <td>c</td>\n",
       "      <td>2019-12-27 02:08:58.452119</td>\n",
       "      <td>1</td>\n",
       "      <td>-0.001</td>\n",
       "    </tr>\n",
       "    <tr>\n",
       "      <th>56</th>\n",
       "      <td>c</td>\n",
       "      <td>2019-12-27 02:08:58.452119</td>\n",
       "      <td>2</td>\n",
       "      <td>15.125</td>\n",
       "    </tr>\n",
       "    <tr>\n",
       "      <th>57</th>\n",
       "      <td>c</td>\n",
       "      <td>2019-12-27 02:08:58.452119</td>\n",
       "      <td>2</td>\n",
       "      <td>-0.001</td>\n",
       "    </tr>\n",
       "    <tr>\n",
       "      <th>58</th>\n",
       "      <td>c</td>\n",
       "      <td>2019-12-27 02:08:58.452119</td>\n",
       "      <td>3</td>\n",
       "      <td>15.125</td>\n",
       "    </tr>\n",
       "    <tr>\n",
       "      <th>59</th>\n",
       "      <td>c</td>\n",
       "      <td>2019-12-27 02:08:58.452119</td>\n",
       "      <td>3</td>\n",
       "      <td>-0.001</td>\n",
       "    </tr>\n",
       "  </tbody>\n",
       "</table>\n",
       "</div>"
      ],
      "text/plain": [
       "   STRINGS                      DATES                        MISC  FLOATS\n",
       "0        a 2020-04-01 02:08:58.452119                         AAA  15.125\n",
       "1        a 2020-04-01 02:08:58.452119                         AAA  -0.001\n",
       "2        a 2020-04-01 02:08:58.452119  2020-04-01 02:08:58.452119  15.125\n",
       "3        a 2020-04-01 02:08:58.452119  2020-04-01 02:08:58.452119  -0.001\n",
       "4        a 2020-04-01 02:08:58.452119                           1  15.125\n",
       "5        a 2020-04-01 02:08:58.452119                           1  -0.001\n",
       "6        a 2020-04-01 02:08:58.452119                           2  15.125\n",
       "7        a 2020-04-01 02:08:58.452119                           2  -0.001\n",
       "8        a 2020-04-01 02:08:58.452119                           3  15.125\n",
       "9        a 2020-04-01 02:08:58.452119                           3  -0.001\n",
       "10       a 2019-12-27 02:08:58.452119                         AAA  15.125\n",
       "11       a 2019-12-27 02:08:58.452119                         AAA  -0.001\n",
       "12       a 2019-12-27 02:08:58.452119  2020-04-01 02:08:58.452119  15.125\n",
       "13       a 2019-12-27 02:08:58.452119  2020-04-01 02:08:58.452119  -0.001\n",
       "14       a 2019-12-27 02:08:58.452119                           1  15.125\n",
       "15       a 2019-12-27 02:08:58.452119                           1  -0.001\n",
       "16       a 2019-12-27 02:08:58.452119                           2  15.125\n",
       "17       a 2019-12-27 02:08:58.452119                           2  -0.001\n",
       "18       a 2019-12-27 02:08:58.452119                           3  15.125\n",
       "19       a 2019-12-27 02:08:58.452119                           3  -0.001\n",
       "20       b 2020-04-01 02:08:58.452119                         AAA  15.125\n",
       "21       b 2020-04-01 02:08:58.452119                         AAA  -0.001\n",
       "22       b 2020-04-01 02:08:58.452119  2020-04-01 02:08:58.452119  15.125\n",
       "23       b 2020-04-01 02:08:58.452119  2020-04-01 02:08:58.452119  -0.001\n",
       "24       b 2020-04-01 02:08:58.452119                           1  15.125\n",
       "25       b 2020-04-01 02:08:58.452119                           1  -0.001\n",
       "26       b 2020-04-01 02:08:58.452119                           2  15.125\n",
       "27       b 2020-04-01 02:08:58.452119                           2  -0.001\n",
       "28       b 2020-04-01 02:08:58.452119                           3  15.125\n",
       "29       b 2020-04-01 02:08:58.452119                           3  -0.001\n",
       "30       b 2019-12-27 02:08:58.452119                         AAA  15.125\n",
       "31       b 2019-12-27 02:08:58.452119                         AAA  -0.001\n",
       "32       b 2019-12-27 02:08:58.452119  2020-04-01 02:08:58.452119  15.125\n",
       "33       b 2019-12-27 02:08:58.452119  2020-04-01 02:08:58.452119  -0.001\n",
       "34       b 2019-12-27 02:08:58.452119                           1  15.125\n",
       "35       b 2019-12-27 02:08:58.452119                           1  -0.001\n",
       "36       b 2019-12-27 02:08:58.452119                           2  15.125\n",
       "37       b 2019-12-27 02:08:58.452119                           2  -0.001\n",
       "38       b 2019-12-27 02:08:58.452119                           3  15.125\n",
       "39       b 2019-12-27 02:08:58.452119                           3  -0.001\n",
       "40       c 2020-04-01 02:08:58.452119                         AAA  15.125\n",
       "41       c 2020-04-01 02:08:58.452119                         AAA  -0.001\n",
       "42       c 2020-04-01 02:08:58.452119  2020-04-01 02:08:58.452119  15.125\n",
       "43       c 2020-04-01 02:08:58.452119  2020-04-01 02:08:58.452119  -0.001\n",
       "44       c 2020-04-01 02:08:58.452119                           1  15.125\n",
       "45       c 2020-04-01 02:08:58.452119                           1  -0.001\n",
       "46       c 2020-04-01 02:08:58.452119                           2  15.125\n",
       "47       c 2020-04-01 02:08:58.452119                           2  -0.001\n",
       "48       c 2020-04-01 02:08:58.452119                           3  15.125\n",
       "49       c 2020-04-01 02:08:58.452119                           3  -0.001\n",
       "50       c 2019-12-27 02:08:58.452119                         AAA  15.125\n",
       "51       c 2019-12-27 02:08:58.452119                         AAA  -0.001\n",
       "52       c 2019-12-27 02:08:58.452119  2020-04-01 02:08:58.452119  15.125\n",
       "53       c 2019-12-27 02:08:58.452119  2020-04-01 02:08:58.452119  -0.001\n",
       "54       c 2019-12-27 02:08:58.452119                           1  15.125\n",
       "55       c 2019-12-27 02:08:58.452119                           1  -0.001\n",
       "56       c 2019-12-27 02:08:58.452119                           2  15.125\n",
       "57       c 2019-12-27 02:08:58.452119                           2  -0.001\n",
       "58       c 2019-12-27 02:08:58.452119                           3  15.125\n",
       "59       c 2019-12-27 02:08:58.452119                           3  -0.001"
      ]
     },
     "execution_count": 24,
     "metadata": {},
     "output_type": "execute_result"
    }
   ],
   "source": [
    "pd.DataFrame(\n",
    "    [e for e in itertools.product(*[s[e] for e in s])], \n",
    "    columns=[e for e in s]\n",
    ")"
   ]
  },
  {
   "cell_type": "code",
   "execution_count": 25,
   "metadata": {},
   "outputs": [
    {
     "data": {
      "text/plain": [
       "[('a', 'A-A', 1),\n",
       " ('a', 'A-A', 2),\n",
       " ('a', 'B-B', 1),\n",
       " ('a', 'B-B', 2),\n",
       " ('a', 'C-C', 1),\n",
       " ('a', 'C-C', 2),\n",
       " ('a', 'D-D', 1),\n",
       " ('a', 'D-D', 2),\n",
       " ('b', 'A-A', 1),\n",
       " ('b', 'A-A', 2),\n",
       " ('b', 'B-B', 1),\n",
       " ('b', 'B-B', 2),\n",
       " ('b', 'C-C', 1),\n",
       " ('b', 'C-C', 2),\n",
       " ('b', 'D-D', 1),\n",
       " ('b', 'D-D', 2),\n",
       " ('c', 'A-A', 1),\n",
       " ('c', 'A-A', 2),\n",
       " ('c', 'B-B', 1),\n",
       " ('c', 'B-B', 2),\n",
       " ('c', 'C-C', 1),\n",
       " ('c', 'C-C', 2),\n",
       " ('c', 'D-D', 1),\n",
       " ('c', 'D-D', 2)]"
      ]
     },
     "execution_count": 25,
     "metadata": {},
     "output_type": "execute_result"
    }
   ],
   "source": [
    "[e for e in itertools.product( \n",
    "    *[\n",
    "         ['a','b','c'],\n",
    "         ['A-A', 'B-B', 'C-C', 'D-D'],\n",
    "         [1,2]\n",
    "     ]\n",
    ")]\n"
   ]
  },
  {
   "cell_type": "code",
   "execution_count": 26,
   "metadata": {},
   "outputs": [
    {
     "name": "stdout",
     "output_type": "stream",
     "text": [
      "('CCC', 'CC2', 'ZZZZZ.kkkk', 'ZZZZZ.aa', 'ZZZZZ.rdt', 'ZZ1.Z2.Z3.kkkk', 'ZZ1.Z2.kkkk', 'CC3', 'config.par1', 'config.par2', 'config.par3', 'dt')\n"
     ]
    }
   ],
   "source": [
    "def f(*m):\n",
    "    print(m)\n",
    "\n",
    "f(*ad)"
   ]
  },
  {
   "cell_type": "code",
   "execution_count": 27,
   "metadata": {},
   "outputs": [
    {
     "data": {
      "text/plain": [
       "{\n",
       "  \"CCC\":['a', 'b', 'c', 'd'],\n",
       "  \"CC2\":'3333',\n",
       "  \"ZZZZZ\":{\n",
       "    \"kkkk\":10,\n",
       "    \"aa\":'aa',\n",
       "    \"rdt\":relativedelta(years=+2)\n",
       "  },\n",
       "  \"ZZ1\":{\n",
       "    \"Z2\":{\n",
       "      \"Z3\":{\n",
       "        \"kkkk\":11\n",
       "      },\n",
       "      \"kkkk\":12\n",
       "    }\n",
       "  },\n",
       "  \"CC3\":'xxx3333',\n",
       "  \"config\":{\n",
       "    \"par1\":'parameter N 1',\n",
       "    \"par2\":'parameter N 2',\n",
       "    \"par3\":3\n",
       "  },\n",
       "  \"dt\":datetime.datetime(2020, 4, 1, 2, 7, 57, 356984)\n",
       "}"
      ]
     },
     "execution_count": 27,
     "metadata": {},
     "output_type": "execute_result"
    }
   ],
   "source": [
    "ad"
   ]
  },
  {
   "cell_type": "code",
   "execution_count": 28,
   "metadata": {},
   "outputs": [
    {
     "data": {
      "text/plain": [
       "{\n",
       "  \"par1\":'parameter N 1',\n",
       "  \"par2\":'parameter N 2',\n",
       "  \"par3\":3\n",
       "}"
      ]
     },
     "execution_count": 28,
     "metadata": {},
     "output_type": "execute_result"
    }
   ],
   "source": [
    "ConfigDict({\n",
    "    \"par1\":'parameter N 1',\n",
    "    \"par2\":'parameter N 2',\n",
    "    \"par3\":3\n",
    "  })"
   ]
  },
  {
   "cell_type": "code",
   "execution_count": 29,
   "metadata": {},
   "outputs": [],
   "source": [
    "_str = {\n",
    "  \"CCC\":['a', 'b', 'c', 'd'],\n",
    "  \"CC2\":'3333',\n",
    "  \"ZZZZZ\":{\n",
    "    \"kkkk\":10,\n",
    "    \"aa\":'aa',\n",
    "    \"rdt\":relativedelta(years=+2)\n",
    "  },\n",
    "  \"ZZ1\":{\n",
    "    \"Z2\":{\n",
    "      \"Z3\":{\n",
    "        \"kkkk\":11\n",
    "      },\n",
    "      \"kkkk\":12\n",
    "    },\n",
    "  },\n",
    "  \"CC3\":'xxx3333',\n",
    "  \"config\":{\n",
    "    \"par1\":'parameter N 1',\n",
    "    \"par2\":'parameter N 2',\n",
    "    \"par3\":3\n",
    "  },\n",
    "  \"dt\":datetime.datetime(2020, 2, 5, 16, 1, 58, 695387)\n",
    "}"
   ]
  },
  {
   "cell_type": "code",
   "execution_count": 30,
   "metadata": {},
   "outputs": [],
   "source": [
    "_ttt = ConfigDict(_str)"
   ]
  },
  {
   "cell_type": "code",
   "execution_count": 31,
   "metadata": {},
   "outputs": [
    {
     "data": {
      "text/plain": [
       "{\n",
       "  \"CCC\":['a', 'b', 'c', 'd'],\n",
       "  \"CC2\":'3333',\n",
       "  \"ZZZZZ\":{\n",
       "    \"kkkk\":10,\n",
       "    \"aa\":'aa',\n",
       "    \"rdt\":relativedelta(years=+2)\n",
       "  },\n",
       "  \"ZZ1\":{\n",
       "    \"Z2\":{\n",
       "      \"Z3\":{\n",
       "        \"kkkk\":11\n",
       "      },\n",
       "      \"kkkk\":12\n",
       "    }\n",
       "  },\n",
       "  \"CC3\":'xxx3333',\n",
       "  \"config\":{\n",
       "    \"par1\":'parameter N 1',\n",
       "    \"par2\":'parameter N 2',\n",
       "    \"par3\":3\n",
       "  },\n",
       "  \"dt\":datetime.datetime(2020, 2, 5, 16, 1, 58, 695387)\n",
       "}"
      ]
     },
     "metadata": {},
     "output_type": "display_data"
    },
    {
     "data": {
      "text/plain": [
       "{\n",
       "  \"Z2\":{\n",
       "    \"Z3\":{\n",
       "      \"kkkk\":11\n",
       "    },\n",
       "    \"kkkk\":12\n",
       "  }\n",
       "}"
      ]
     },
     "metadata": {},
     "output_type": "display_data"
    },
    {
     "data": {
      "text/plain": [
       "{\n",
       "  \"Z3\":{\n",
       "    \"kkkk\":11\n",
       "  },\n",
       "  \"kkkk\":12\n",
       "}"
      ]
     },
     "metadata": {},
     "output_type": "display_data"
    }
   ],
   "source": [
    "display(_ttt)\n",
    "display(_ttt.ZZ1)\n",
    "display(_ttt.ZZ1.Z2)\n"
   ]
  },
  {
   "cell_type": "code",
   "execution_count": 32,
   "metadata": {},
   "outputs": [
    {
     "data": {
      "text/plain": [
       "{'CCC': ['a', 'b', 'c', 'd'],\n",
       " 'CC2': '3333',\n",
       " 'ZZZZZ.kkkk': 10,\n",
       " 'ZZZZZ.aa': 'aa',\n",
       " 'ZZZZZ.rdt': relativedelta(years=+2),\n",
       " 'ZZ1.Z2.Z3.kkkk': 11,\n",
       " 'ZZ1.Z2.kkkk': 12,\n",
       " 'CC3': 'xxx3333',\n",
       " 'config.par1': 'parameter N 1',\n",
       " 'config.par2': 'parameter N 2',\n",
       " 'config.par3': 3,\n",
       " 'dt': datetime.datetime(2020, 2, 5, 16, 1, 58, 695387)}"
      ]
     },
     "execution_count": 32,
     "metadata": {},
     "output_type": "execute_result"
    }
   ],
   "source": [
    "{ k:_ttt[k] for k in _ttt}"
   ]
  },
  {
   "cell_type": "markdown",
   "metadata": {},
   "source": [
    "<hr>\n",
    "## Check parameters are merged with defaults"
   ]
  },
  {
   "cell_type": "code",
   "execution_count": 34,
   "metadata": {},
   "outputs": [
    {
     "data": {
      "text/plain": [
       "{\n",
       "  \"p1\":'v1',\n",
       "  \"p2\":'p2upd',\n",
       "  \"p3\":'v3',\n",
       "  \"subtree\":{\n",
       "    \"tree_par1\":'par1val',\n",
       "    \"tree_par2\":'par2val_upd',\n",
       "    \"tree_par3\":'par3val_new'\n",
       "  },\n",
       "  \"p4\":'p4new'\n",
       "}"
      ]
     },
     "execution_count": 34,
     "metadata": {},
     "output_type": "execute_result"
    }
   ],
   "source": [
    "default = {\n",
    "    'p1': 'v1',\n",
    "    'p2': 'v2',\n",
    "    'p3': 'v3',\n",
    "    'subtree': {\n",
    "        'tree_par1': 'par1val',\n",
    "        'tree_par2': 'par2val',\n",
    "    }\n",
    "}\n",
    "\n",
    "upd = {\n",
    "    'p2': 'p2upd',\n",
    "    'p4': 'p4new',\n",
    "    'subtree': {\n",
    "        'tree_par2': 'par2val_upd',\n",
    "        'tree_par3': 'par3val_new',\n",
    "    }\n",
    "}\n",
    "\n",
    "_td = ConfigDict(data=upd, default=default)\n",
    "_td"
   ]
  },
  {
   "cell_type": "code",
   "execution_count": 35,
   "metadata": {},
   "outputs": [
    {
     "data": {
      "text/plain": [
       "['p1',\n",
       " 'p2',\n",
       " 'p3',\n",
       " 'subtree.tree_par1',\n",
       " 'subtree.tree_par2',\n",
       " 'subtree.tree_par3',\n",
       " 'p4']"
      ]
     },
     "execution_count": 35,
     "metadata": {},
     "output_type": "execute_result"
    }
   ],
   "source": [
    "[ nm for nm in _td]"
   ]
  },
  {
   "cell_type": "markdown",
   "metadata": {},
   "source": [
    "## Check that we copy values (deepcopy)"
   ]
  },
  {
   "cell_type": "code",
   "execution_count": 36,
   "metadata": {},
   "outputs": [],
   "source": [
    "_td1 = ConfigDict(_td)\n",
    "_td2 = ConfigDict(_td1)\n",
    "_td1['subtree.tree_par2'] = 'XXXXXXXXXXXXXXXXX'\n",
    "_td2['subtree.tree_par1'] = 'YYYYYYYYYYYY'"
   ]
  },
  {
   "cell_type": "code",
   "execution_count": 37,
   "metadata": {},
   "outputs": [
    {
     "data": {
      "text/plain": [
       "({\n",
       "   \"p1\":'v1',\n",
       "   \"p2\":'p2upd',\n",
       "   \"p3\":'v3',\n",
       "   \"subtree\":{\n",
       "     \"tree_par1\":'par1val',\n",
       "     \"tree_par2\":'XXXXXXXXXXXXXXXXX',\n",
       "     \"tree_par3\":'par3val_new'\n",
       "   },\n",
       "   \"p4\":'p4new'\n",
       " },\n",
       " {\n",
       "   \"p1\":'v1',\n",
       "   \"p2\":'p2upd',\n",
       "   \"p3\":'v3',\n",
       "   \"subtree\":{\n",
       "     \"tree_par1\":'YYYYYYYYYYYY',\n",
       "     \"tree_par2\":'par2val_upd',\n",
       "     \"tree_par3\":'par3val_new'\n",
       "   },\n",
       "   \"p4\":'p4new'\n",
       " },\n",
       " {'p2': 'p2upd',\n",
       "  'p4': 'p4new',\n",
       "  'subtree': {'tree_par2': 'par2val_upd', 'tree_par3': 'par3val_new'}},\n",
       " {'p1': 'v1',\n",
       "  'p2': 'v2',\n",
       "  'p3': 'v3',\n",
       "  'subtree': {'tree_par1': 'par1val', 'tree_par2': 'par2val'}})"
      ]
     },
     "execution_count": 37,
     "metadata": {},
     "output_type": "execute_result"
    }
   ],
   "source": [
    "_td1, _td2, upd, default"
   ]
  },
  {
   "cell_type": "code",
   "execution_count": null,
   "metadata": {
    "collapsed": true
   },
   "outputs": [],
   "source": []
  }
 ],
 "metadata": {
  "kernelspec": {
   "display_name": "Python 3",
   "language": "python",
   "name": "python3"
  },
  "language_info": {
   "codemirror_mode": {
    "name": "ipython",
    "version": 3
   },
   "file_extension": ".py",
   "mimetype": "text/x-python",
   "name": "python",
   "nbconvert_exporter": "python",
   "pygments_lexer": "ipython3",
   "version": "3.7.7"
  },
  "widgets": {
   "application/vnd.jupyter.widget-state+json": {
    "state": {},
    "version_major": 2,
    "version_minor": 0
   }
  }
 },
 "nbformat": 4,
 "nbformat_minor": 2
}
